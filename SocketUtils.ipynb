{
 "cells": [
  {
   "cell_type": "code",
   "execution_count": 1,
   "id": "f95df270",
   "metadata": {},
   "outputs": [
    {
     "name": "stdout",
     "output_type": "stream",
     "text": [
      "b'l\\xa1=R\\xcap\\xc8\\x83\\xe0\\xf0\\xbb\\x10\\x1eBZ\\x89\\xe8bM\\xe5\\x1d\\xb2\\xd29%\\x93\\xafj\\x84\\x11\\x80\\x90'\n",
      "b'\\xcdp\\x11\\xe7\\xa6\\xb2}D\\xce\"\\xa7\\x1aL\\xdf\\xc2\\xc4}\\\\g\\xe351\\x9e\\xd7\\xf6\\xaer\\xcc\\x03\\xd7\\xd6?'\n",
      "Success!\n"
     ]
    }
   ],
   "source": [
    "import socket\n",
    "import pickle\n",
    "import select\n",
    "\n",
    "TCP_PORT = 5005\n",
    "BUFFER_SIZE=1024\n",
    "\n",
    "def newServerConnection(ip_addr, port=TCP_PORT):\n",
    "    s = socket.socket(socket.AF_INET, socket.SOCK_STREAM)\n",
    "    s.bind((ip_addr,port))\n",
    "    s.listen()\n",
    "    return s\n",
    "\n",
    "def recvObj(socket):\n",
    "    new_sock,addr = socket.accept()\n",
    "    all_data = b''\n",
    "    while True:\n",
    "        data = new_sock.recv(BUFFER_SIZE)\n",
    "        if not data: break\n",
    "        all_data = all_data + data\n",
    "    return pickle.loads(all_data)\n",
    "\n",
    "def sendBlock(ip_addr, blk, port=TCP_PORT):\n",
    "    s = socket.socket(socket.AF_INET, socket.SOCK_STREAM)\n",
    "    s.connect((ip_addr, port))\n",
    "    data = pickle.dumps(blk)\n",
    "    s.send(data)\n",
    "    s.close()\n",
    "    return False\n",
    "\n",
    "if __name__ == \"__main__\":\n",
    "    server = newServerConnection('localhost')\n",
    "    O = recvObj(server)\n",
    "    print (\"Success!\") #If returns after time, then successful\n"
   ]
  },
  {
   "cell_type": "code",
   "execution_count": null,
   "id": "6c9140c5",
   "metadata": {},
   "outputs": [],
   "source": []
  }
 ],
 "metadata": {
  "kernelspec": {
   "display_name": "Python 3 (ipykernel)",
   "language": "python",
   "name": "python3"
  },
  "language_info": {
   "codemirror_mode": {
    "name": "ipython",
    "version": 3
   },
   "file_extension": ".py",
   "mimetype": "text/x-python",
   "name": "python",
   "nbconvert_exporter": "python",
   "pygments_lexer": "ipython3",
   "version": "3.9.12"
  }
 },
 "nbformat": 4,
 "nbformat_minor": 5
}
